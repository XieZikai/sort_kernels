{
 "cells": [
  {
   "cell_type": "code",
   "execution_count": 1,
   "id": "f9488384-3238-49cb-ae5d-0d5011219bda",
   "metadata": {},
   "outputs": [],
   "source": [
    "import torch\n",
    "import numpy as np\n",
    "from copy import deepcopy"
   ]
  },
  {
   "cell_type": "markdown",
   "id": "bf27d10f-649f-4c0a-b787-0159e05fd95e",
   "metadata": {},
   "source": [
    "## Analyse results"
   ]
  },
  {
   "cell_type": "code",
   "execution_count": 2,
   "id": "02fe50e1-f3ce-46ee-948c-0d8cea009fcc",
   "metadata": {},
   "outputs": [],
   "source": [
    "def read_file(kernel_type, dim, benchmark_index, nruns):\n",
    "    file_name = 'tsp_botorch_'+kernel_type+'_EI_dim_'+str(dim)+'benchmark_index_'+str(benchmark_index)+'_nrun_'+str(nruns)+'.pkl'\n",
    "    data = torch.load(file_name, weights_only=False)\n",
    "    l = data['outputs']\n",
    "    l = [float(i) for i in l]\n",
    "    return l\n",
    "\n",
    "\n",
    "def read_file_filename(file_name):\n",
    "    data = torch.load(file_name, weights_only=False)\n",
    "    l = data['outputs']\n",
    "    l = [float(i) for i in l]\n",
    "    return l\n",
    "\n",
    "\n",
    "def read_file_no_anchor(kernel_type, dim, benchmark_index, nruns):\n",
    "    file_name = 'tsp_botorch_'+kernel_type+'_EI_dim_'+str(dim)+'benchmark_index_no_anchor_'+str(benchmark_index)+'_nrun_'+str(nruns)+'.pkl'\n",
    "    data = torch.load(file_name, weights_only=False)\n",
    "    l = data['outputs']\n",
    "    l = [float(i) for i in l]\n",
    "    return l"
   ]
  },
  {
   "cell_type": "code",
   "execution_count": 25,
   "id": "3ca4a6ce-90d2-4e79-bcfa-c9fe818dd0a0",
   "metadata": {},
   "outputs": [],
   "source": [
    "import os\n",
    "\n",
    "def analyse_trial(dim=10, benchmark_index=0, cut=200):\n",
    "    folders = os.listdir('./results')\n",
    "    nruns = 20\n",
    "    results_dict = {}\n",
    "\n",
    "    for folder in folders:\n",
    "        if '.' in folder:\n",
    "            continue\n",
    "        results_dict[folder] = []\n",
    "        for nrun in range(nruns):\n",
    "            results_dict[folder].append(read_file_filename(os.path.join('./results', folder, folder+f'_nrun_{nrun}.pkl')))\n",
    "\n",
    "    all_results = []\n",
    "    for key in results_dict.keys():\n",
    "        results_dict[key] = np.array(results_dict[key])\n",
    "        all_results.append(results_dict[key][:, :cut])\n",
    "    # print(all_results[0].shape)\n",
    "    # return all_results\n",
    "    global_minimum = np.min(all_results)\n",
    "    print(global_minimum)\n",
    "    best_so_far = [np.minimum.accumulate(res, axis=1) for res in all_results]\n",
    "    regrets = [bfs - global_minimum for bfs in best_so_far]\n",
    "    for i, key in enumerate(results_dict.keys()):\n",
    "        results_dict[key] = regrets[i]\n",
    "        # results_dict[key] = all_results[i]\n",
    "    return results_dict"
   ]
  },
  {
   "cell_type": "code",
   "execution_count": 23,
   "id": "00387130-f7e9-407a-8e56-fbe143005545",
   "metadata": {},
   "outputs": [
    {
     "name": "stdout",
     "output_type": "stream",
     "text": [
      "329.969018\n"
     ]
    },
    {
     "data": {
      "text/html": [
       "<div>\n",
       "<style scoped>\n",
       "    .dataframe tbody tr th:only-of-type {\n",
       "        vertical-align: middle;\n",
       "    }\n",
       "\n",
       "    .dataframe tbody tr th {\n",
       "        vertical-align: top;\n",
       "    }\n",
       "\n",
       "    .dataframe thead th {\n",
       "        text-align: right;\n",
       "    }\n",
       "</style>\n",
       "<table border=\"1\" class=\"dataframe\">\n",
       "  <thead>\n",
       "    <tr style=\"text-align: right;\">\n",
       "      <th></th>\n",
       "      <th>algorithm</th>\n",
       "      <th>final_best_mean</th>\n",
       "      <th>final_best_std</th>\n",
       "      <th>auc_best_so_far_mean</th>\n",
       "      <th>auc_best_so_far_std</th>\n",
       "      <th>mean_simple_regret_mean</th>\n",
       "      <th>mean_simple_regret_std</th>\n",
       "      <th>final_simple_regret_mean</th>\n",
       "      <th>final_simple_regret_std</th>\n",
       "      <th>cumulative_regret_mean</th>\n",
       "      <th>cumulative_regret_std</th>\n",
       "      <th>evals_to_threshold_mean</th>\n",
       "      <th>evals_to_threshold_std</th>\n",
       "    </tr>\n",
       "  </thead>\n",
       "  <tbody>\n",
       "    <tr>\n",
       "      <th>0</th>\n",
       "      <td>tsp_botorch_merge_EI_dim_10benchmark_index_k5_...</td>\n",
       "      <td>330.052889</td>\n",
       "      <td>0.174432</td>\n",
       "      <td>66132.302860</td>\n",
       "      <td>146.084482</td>\n",
       "      <td>7.123681</td>\n",
       "      <td>1.101528</td>\n",
       "      <td>5.588660</td>\n",
       "      <td>12.780406</td>\n",
       "      <td>1424.736140</td>\n",
       "      <td>220.305690</td>\n",
       "      <td>None</td>\n",
       "      <td>None</td>\n",
       "    </tr>\n",
       "    <tr>\n",
       "      <th>1</th>\n",
       "      <td>tsp_botorch_merge_EI_dim_10benchmark_index_wit...</td>\n",
       "      <td>330.007728</td>\n",
       "      <td>0.071842</td>\n",
       "      <td>66165.393498</td>\n",
       "      <td>156.162093</td>\n",
       "      <td>8.125217</td>\n",
       "      <td>0.896046</td>\n",
       "      <td>3.862375</td>\n",
       "      <td>8.188660</td>\n",
       "      <td>1625.043384</td>\n",
       "      <td>179.209159</td>\n",
       "      <td>None</td>\n",
       "      <td>None</td>\n",
       "    </tr>\n",
       "    <tr>\n",
       "      <th>2</th>\n",
       "      <td>tsp_botorch_merge_EI_dim_10benchmark_index_k4_...</td>\n",
       "      <td>330.014179</td>\n",
       "      <td>0.169592</td>\n",
       "      <td>66076.026011</td>\n",
       "      <td>121.981277</td>\n",
       "      <td>6.789502</td>\n",
       "      <td>0.954584</td>\n",
       "      <td>1.329030</td>\n",
       "      <td>1.470682</td>\n",
       "      <td>1357.900358</td>\n",
       "      <td>190.916777</td>\n",
       "      <td>None</td>\n",
       "      <td>None</td>\n",
       "    </tr>\n",
       "    <tr>\n",
       "      <th>3</th>\n",
       "      <td>tsp_botorch_merge_EI_dim_10benchmark_index_shi...</td>\n",
       "      <td>329.981921</td>\n",
       "      <td>0.038710</td>\n",
       "      <td>66064.740460</td>\n",
       "      <td>115.012314</td>\n",
       "      <td>6.806800</td>\n",
       "      <td>0.898856</td>\n",
       "      <td>1.618742</td>\n",
       "      <td>2.085492</td>\n",
       "      <td>1361.360041</td>\n",
       "      <td>179.771187</td>\n",
       "      <td>None</td>\n",
       "      <td>None</td>\n",
       "    </tr>\n",
       "    <tr>\n",
       "      <th>4</th>\n",
       "      <td>tsp_botorch_merge_EI_dim_10benchmark_index_no_...</td>\n",
       "      <td>330.046437</td>\n",
       "      <td>0.125101</td>\n",
       "      <td>66191.435457</td>\n",
       "      <td>162.856862</td>\n",
       "      <td>9.331795</td>\n",
       "      <td>4.754941</td>\n",
       "      <td>3.069438</td>\n",
       "      <td>3.990725</td>\n",
       "      <td>1866.358929</td>\n",
       "      <td>950.988251</td>\n",
       "      <td>None</td>\n",
       "      <td>None</td>\n",
       "    </tr>\n",
       "    <tr>\n",
       "      <th>5</th>\n",
       "      <td>tsp_botorch_merge_EI_dim_10benchmark_index_k4_...</td>\n",
       "      <td>329.988373</td>\n",
       "      <td>0.046074</td>\n",
       "      <td>66074.662285</td>\n",
       "      <td>107.345022</td>\n",
       "      <td>6.668632</td>\n",
       "      <td>0.878565</td>\n",
       "      <td>1.206449</td>\n",
       "      <td>0.828497</td>\n",
       "      <td>1333.726416</td>\n",
       "      <td>175.712997</td>\n",
       "      <td>None</td>\n",
       "      <td>None</td>\n",
       "    </tr>\n",
       "    <tr>\n",
       "      <th>6</th>\n",
       "      <td>tsp_botorch_merge_EI_dim_10benchmark_index_k3_...</td>\n",
       "      <td>329.981921</td>\n",
       "      <td>0.038710</td>\n",
       "      <td>66099.460076</td>\n",
       "      <td>129.746168</td>\n",
       "      <td>8.211784</td>\n",
       "      <td>1.081205</td>\n",
       "      <td>3.062376</td>\n",
       "      <td>4.991346</td>\n",
       "      <td>1642.356888</td>\n",
       "      <td>216.240960</td>\n",
       "      <td>None</td>\n",
       "      <td>None</td>\n",
       "    </tr>\n",
       "    <tr>\n",
       "      <th>7</th>\n",
       "      <td>tsp_botorch_merge_EI_dim_10benchmark_index_k4_...</td>\n",
       "      <td>330.059340</td>\n",
       "      <td>0.071842</td>\n",
       "      <td>66034.827592</td>\n",
       "      <td>94.798764</td>\n",
       "      <td>10.309546</td>\n",
       "      <td>1.320541</td>\n",
       "      <td>7.071004</td>\n",
       "      <td>7.905608</td>\n",
       "      <td>2061.909211</td>\n",
       "      <td>264.108260</td>\n",
       "      <td>None</td>\n",
       "      <td>None</td>\n",
       "    </tr>\n",
       "    <tr>\n",
       "      <th>8</th>\n",
       "      <td>tsp_botorch_merge_EI_dim_10benchmark_index_leh...</td>\n",
       "      <td>329.988373</td>\n",
       "      <td>0.046074</td>\n",
       "      <td>66081.411928</td>\n",
       "      <td>118.031734</td>\n",
       "      <td>6.796995</td>\n",
       "      <td>0.784716</td>\n",
       "      <td>3.655009</td>\n",
       "      <td>10.745716</td>\n",
       "      <td>1359.399008</td>\n",
       "      <td>156.943292</td>\n",
       "      <td>None</td>\n",
       "      <td>None</td>\n",
       "    </tr>\n",
       "    <tr>\n",
       "      <th>9</th>\n",
       "      <td>tsp_botorch_merge_EI_dim_10benchmark_index_k34...</td>\n",
       "      <td>329.981921</td>\n",
       "      <td>0.038710</td>\n",
       "      <td>66069.695340</td>\n",
       "      <td>134.290461</td>\n",
       "      <td>6.761151</td>\n",
       "      <td>0.859748</td>\n",
       "      <td>1.502918</td>\n",
       "      <td>1.502509</td>\n",
       "      <td>1352.230265</td>\n",
       "      <td>171.949612</td>\n",
       "      <td>None</td>\n",
       "      <td>None</td>\n",
       "    </tr>\n",
       "    <tr>\n",
       "      <th>10</th>\n",
       "      <td>tsp_botorch_merge_EI_dim_10benchmark_index_k34...</td>\n",
       "      <td>329.981921</td>\n",
       "      <td>0.038710</td>\n",
       "      <td>66067.800754</td>\n",
       "      <td>126.761682</td>\n",
       "      <td>6.560822</td>\n",
       "      <td>0.818964</td>\n",
       "      <td>1.515516</td>\n",
       "      <td>1.944143</td>\n",
       "      <td>1312.164406</td>\n",
       "      <td>163.792784</td>\n",
       "      <td>None</td>\n",
       "      <td>None</td>\n",
       "    </tr>\n",
       "    <tr>\n",
       "      <th>11</th>\n",
       "      <td>tsp_botorch_bitonic_EI_dim_10benchmark_index_0</td>\n",
       "      <td>332.639980</td>\n",
       "      <td>1.211184</td>\n",
       "      <td>66716.219269</td>\n",
       "      <td>329.782794</td>\n",
       "      <td>36.319379</td>\n",
       "      <td>3.521451</td>\n",
       "      <td>34.783014</td>\n",
       "      <td>12.142273</td>\n",
       "      <td>7263.875896</td>\n",
       "      <td>704.290160</td>\n",
       "      <td>None</td>\n",
       "      <td>None</td>\n",
       "    </tr>\n",
       "    <tr>\n",
       "      <th>12</th>\n",
       "      <td>tsp_botorch_mallows_EI_dim_10benchmark_index_0</td>\n",
       "      <td>329.981921</td>\n",
       "      <td>0.038710</td>\n",
       "      <td>66092.040685</td>\n",
       "      <td>121.906771</td>\n",
       "      <td>7.727221</td>\n",
       "      <td>0.666290</td>\n",
       "      <td>6.710020</td>\n",
       "      <td>15.329369</td>\n",
       "      <td>1545.444204</td>\n",
       "      <td>133.258065</td>\n",
       "      <td>None</td>\n",
       "      <td>None</td>\n",
       "    </tr>\n",
       "  </tbody>\n",
       "</table>\n",
       "</div>"
      ],
      "text/plain": [
       "                                            algorithm  final_best_mean  \\\n",
       "0   tsp_botorch_merge_EI_dim_10benchmark_index_k5_...       330.052889   \n",
       "1   tsp_botorch_merge_EI_dim_10benchmark_index_wit...       330.007728   \n",
       "2   tsp_botorch_merge_EI_dim_10benchmark_index_k4_...       330.014179   \n",
       "3   tsp_botorch_merge_EI_dim_10benchmark_index_shi...       329.981921   \n",
       "4   tsp_botorch_merge_EI_dim_10benchmark_index_no_...       330.046437   \n",
       "5   tsp_botorch_merge_EI_dim_10benchmark_index_k4_...       329.988373   \n",
       "6   tsp_botorch_merge_EI_dim_10benchmark_index_k3_...       329.981921   \n",
       "7   tsp_botorch_merge_EI_dim_10benchmark_index_k4_...       330.059340   \n",
       "8   tsp_botorch_merge_EI_dim_10benchmark_index_leh...       329.988373   \n",
       "9   tsp_botorch_merge_EI_dim_10benchmark_index_k34...       329.981921   \n",
       "10  tsp_botorch_merge_EI_dim_10benchmark_index_k34...       329.981921   \n",
       "11     tsp_botorch_bitonic_EI_dim_10benchmark_index_0       332.639980   \n",
       "12     tsp_botorch_mallows_EI_dim_10benchmark_index_0       329.981921   \n",
       "\n",
       "    final_best_std  auc_best_so_far_mean  auc_best_so_far_std  \\\n",
       "0         0.174432          66132.302860           146.084482   \n",
       "1         0.071842          66165.393498           156.162093   \n",
       "2         0.169592          66076.026011           121.981277   \n",
       "3         0.038710          66064.740460           115.012314   \n",
       "4         0.125101          66191.435457           162.856862   \n",
       "5         0.046074          66074.662285           107.345022   \n",
       "6         0.038710          66099.460076           129.746168   \n",
       "7         0.071842          66034.827592            94.798764   \n",
       "8         0.046074          66081.411928           118.031734   \n",
       "9         0.038710          66069.695340           134.290461   \n",
       "10        0.038710          66067.800754           126.761682   \n",
       "11        1.211184          66716.219269           329.782794   \n",
       "12        0.038710          66092.040685           121.906771   \n",
       "\n",
       "    mean_simple_regret_mean  mean_simple_regret_std  final_simple_regret_mean  \\\n",
       "0                  7.123681                1.101528                  5.588660   \n",
       "1                  8.125217                0.896046                  3.862375   \n",
       "2                  6.789502                0.954584                  1.329030   \n",
       "3                  6.806800                0.898856                  1.618742   \n",
       "4                  9.331795                4.754941                  3.069438   \n",
       "5                  6.668632                0.878565                  1.206449   \n",
       "6                  8.211784                1.081205                  3.062376   \n",
       "7                 10.309546                1.320541                  7.071004   \n",
       "8                  6.796995                0.784716                  3.655009   \n",
       "9                  6.761151                0.859748                  1.502918   \n",
       "10                 6.560822                0.818964                  1.515516   \n",
       "11                36.319379                3.521451                 34.783014   \n",
       "12                 7.727221                0.666290                  6.710020   \n",
       "\n",
       "    final_simple_regret_std  cumulative_regret_mean  cumulative_regret_std  \\\n",
       "0                 12.780406             1424.736140             220.305690   \n",
       "1                  8.188660             1625.043384             179.209159   \n",
       "2                  1.470682             1357.900358             190.916777   \n",
       "3                  2.085492             1361.360041             179.771187   \n",
       "4                  3.990725             1866.358929             950.988251   \n",
       "5                  0.828497             1333.726416             175.712997   \n",
       "6                  4.991346             1642.356888             216.240960   \n",
       "7                  7.905608             2061.909211             264.108260   \n",
       "8                 10.745716             1359.399008             156.943292   \n",
       "9                  1.502509             1352.230265             171.949612   \n",
       "10                 1.944143             1312.164406             163.792784   \n",
       "11                12.142273             7263.875896             704.290160   \n",
       "12                15.329369             1545.444204             133.258065   \n",
       "\n",
       "   evals_to_threshold_mean evals_to_threshold_std  \n",
       "0                     None                   None  \n",
       "1                     None                   None  \n",
       "2                     None                   None  \n",
       "3                     None                   None  \n",
       "4                     None                   None  \n",
       "5                     None                   None  \n",
       "6                     None                   None  \n",
       "7                     None                   None  \n",
       "8                     None                   None  \n",
       "9                     None                   None  \n",
       "10                    None                   None  \n",
       "11                    None                   None  \n",
       "12                    None                   None  "
      ]
     },
     "execution_count": 23,
     "metadata": {},
     "output_type": "execute_result"
    }
   ],
   "source": [
    "import numpy as np\n",
    "import pandas as pd\n",
    "from sklearn.metrics import auc\n",
    "\n",
    "import numpy as np\n",
    "import pandas as pd\n",
    "from sklearn.metrics import auc\n",
    "\n",
    "import numpy as np\n",
    "import pandas as pd\n",
    "from sklearn.metrics import auc\n",
    "\n",
    "def evaluate_algorithms(r: dict, f_opt=None, threshold=None):\n",
    "    \"\"\"\n",
    "    r: dict of {algorithm_name: np.ndarray of shape (n_repeats, n_iterations)}\n",
    "    f_opt: known global minimum value (float)\n",
    "    threshold: optional regret threshold to measure how many iterations are needed\n",
    "    \n",
    "    Returns:\n",
    "        pd.DataFrame with aggregated metrics for each algorithm\n",
    "    \"\"\"\n",
    "    results = []\n",
    "\n",
    "    for algo, regrets in r.items():\n",
    "        regrets = np.array(regrets)  # shape: (n_repeats, n_iterations)\n",
    "        n_repeats, n_iterations = regrets.shape\n",
    "\n",
    "        best_so_far = np.minimum.accumulate(regrets, axis=1)  # shape: (n_repeats, n_iterations)\n",
    "        final_best = best_so_far[:, -1]\n",
    "        auc_vals = np.array([\n",
    "            auc(np.arange(1, n_iterations+1), best_so_far[i])\n",
    "            for i in range(n_repeats)\n",
    "        ])\n",
    "\n",
    "        metrics = {\n",
    "            \"algorithm\": algo,\n",
    "            \"final_best_mean\": np.mean(final_best),\n",
    "            \"final_best_std\": np.std(final_best),\n",
    "            \"auc_best_so_far_mean\": np.mean(auc_vals),\n",
    "            \"auc_best_so_far_std\": np.std(auc_vals),\n",
    "        }\n",
    "\n",
    "        if f_opt is not None:\n",
    "            simple_regrets = regrets - f_opt  # ✅ 对于最小化，目标值应减去最优值\n",
    "            cumulative_regrets = np.cumsum(simple_regrets, axis=1)\n",
    "            mean_simple = np.mean(simple_regrets, axis=1)\n",
    "            final_simple = simple_regrets[:, -1]\n",
    "            final_cum = cumulative_regrets[:, -1]\n",
    "\n",
    "            metrics.update({\n",
    "                \"mean_simple_regret_mean\": np.mean(mean_simple),\n",
    "                \"mean_simple_regret_std\": np.std(mean_simple),\n",
    "                \"final_simple_regret_mean\": np.mean(final_simple),\n",
    "                \"final_simple_regret_std\": np.std(final_simple),\n",
    "                \"cumulative_regret_mean\": np.mean(final_cum),\n",
    "                \"cumulative_regret_std\": np.std(final_cum),\n",
    "            })\n",
    "        else:\n",
    "            metrics.update({\n",
    "                \"mean_simple_regret_mean\": None,\n",
    "                \"mean_simple_regret_std\": None,\n",
    "                \"final_simple_regret_mean\": None,\n",
    "                \"final_simple_regret_std\": None,\n",
    "                \"cumulative_regret_mean\": None,\n",
    "                \"cumulative_regret_std\": None,\n",
    "            })\n",
    "\n",
    "        if threshold is not None:\n",
    "            evals_to_threshold = []\n",
    "            for i in range(n_repeats):\n",
    "                for j in range(n_iterations):\n",
    "                    if best_so_far[i, j] <= threshold:\n",
    "                        evals_to_threshold.append(j + 1)\n",
    "                        break\n",
    "                else:\n",
    "                    evals_to_threshold.append(n_iterations)\n",
    "            evals_to_threshold = np.array(evals_to_threshold)\n",
    "            metrics.update({\n",
    "                \"evals_to_threshold_mean\": np.mean(evals_to_threshold),\n",
    "                \"evals_to_threshold_std\": np.std(evals_to_threshold),\n",
    "            })\n",
    "        else:\n",
    "            metrics.update({\n",
    "                \"evals_to_threshold_mean\": None,\n",
    "                \"evals_to_threshold_std\": None,\n",
    "            })\n",
    "\n",
    "        results.append(metrics)\n",
    "\n",
    "    return pd.DataFrame(results)\n",
    "\n",
    "\n",
    "r = analyse_trial(cut=200)\n",
    "k = evaluate_algorithms(r, 329.969018)\n",
    "k"
   ]
  },
  {
   "cell_type": "code",
   "execution_count": 26,
   "id": "23e85704-b012-4f6b-b13a-3ed5d872afe7",
   "metadata": {},
   "outputs": [
    {
     "data": {
      "text/plain": [
       "'tsp_botorch_merge_EI_dim_10benchmark_index_with_half_pairwise_0'"
      ]
     },
     "execution_count": 26,
     "metadata": {},
     "output_type": "execute_result"
    }
   ],
   "source": [
    "k['algorithm'][1]"
   ]
  },
  {
   "cell_type": "code",
   "execution_count": 28,
   "id": "7bbdb6a1-a25f-49bd-ac6f-115927daf5b1",
   "metadata": {},
   "outputs": [
    {
     "name": "stdout",
     "output_type": "stream",
     "text": [
      "329.969018\n"
     ]
    }
   ],
   "source": [
    "r = analyse_trial()"
   ]
  },
  {
   "cell_type": "code",
   "execution_count": 29,
   "id": "151d8ca6-9c7b-4927-997f-0d05b3db101a",
   "metadata": {},
   "outputs": [
    {
     "name": "stdout",
     "output_type": "stream",
     "text": [
      "tsp_botorch_merge_EI_dim_10benchmark_index_k5_with_permutation_pattern_0 mean regret:  2.4405371559999964\n",
      "tsp_botorch_merge_EI_dim_10benchmark_index_with_half_pairwise_0 mean regret:  2.6058774399999947\n",
      "tsp_botorch_merge_EI_dim_10benchmark_index_k4_with_permutation_pattern_0 mean regret:  2.159056133999994\n",
      "tsp_botorch_merge_EI_dim_10benchmark_index_shift_pairwise_pattern_0 mean regret:  2.1025477379999966\n",
      "tsp_botorch_merge_EI_dim_10benchmark_index_no_anchor_0 mean regret:  2.7361840119999923\n",
      "tsp_botorch_merge_EI_dim_10benchmark_index_k4_pairwise_pattern_0 mean regret:  2.152172987999995\n",
      "tsp_botorch_merge_EI_dim_10benchmark_index_k3_with_permutation_pattern_0 mean regret:  2.2761458159999948\n",
      "tsp_botorch_merge_EI_dim_10benchmark_index_k4_permutation_pattern_0 mean regret:  1.9531769419999947\n",
      "tsp_botorch_merge_EI_dim_10benchmark_index_lehmer_pairwise_pattern_0 mean regret:  2.1859212059999944\n",
      "tsp_botorch_merge_EI_dim_10benchmark_index_k34_with_permutation_pattern_0 mean regret:  2.1273221359999956\n",
      "tsp_botorch_merge_EI_dim_10benchmark_index_k34_pairwise_pattern_0 mean regret:  2.117849205999995\n",
      "tsp_botorch_bitonic_EI_dim_10benchmark_index_0 mean regret:  5.3665869299999756\n",
      "tsp_botorch_mallows_EI_dim_10benchmark_index_0 mean regret:  2.239048861999994\n"
     ]
    }
   ],
   "source": [
    "for key in r.keys():\n",
    "    print(f'{key} mean regret: ', r[key].mean())"
   ]
  },
  {
   "cell_type": "code",
   "execution_count": null,
   "id": "e4c9c6c0-986b-4d07-b019-ea4960f63c23",
   "metadata": {},
   "outputs": [],
   "source": []
  },
  {
   "cell_type": "code",
   "execution_count": 527,
   "id": "311d58ec-a9f9-47e1-8165-bea67db160b4",
   "metadata": {},
   "outputs": [
    {
     "data": {
      "text/plain": [
       "array([33.001712, 33.001712, 22.943312, 22.943312, 22.943312, 15.213584,\n",
       "       15.213584, 15.213584, 15.213584, 15.213584, 15.213584, 15.213584,\n",
       "       15.213584, 15.213584, 15.213584, 15.213584, 15.213584, 12.891008,\n",
       "       12.891008, 12.891008, 12.891008, 12.891008, 12.891008, 12.891008,\n",
       "        3.741928,  3.741928,  3.741928,  3.741928,  3.741928,  3.741928,\n",
       "        3.741928,  3.741928,  3.741928,  3.741928,  3.741928,  3.096768,\n",
       "        3.096768,  3.096768,  3.096768,  1.548384,  1.548384,  1.548384,\n",
       "        1.548384,  1.548384,  1.548384,  1.548384,  1.548384,  1.548384,\n",
       "        1.548384,  1.548384,  0.258064,  0.258064,  0.258064,  0.258064,\n",
       "        0.258064,  0.258064,  0.258064,  0.258064,  0.258064,  0.258064,\n",
       "        0.258064,  0.258064,  0.258064,  0.258064,  0.258064,  0.258064,\n",
       "        0.258064,  0.258064,  0.258064,  0.258064,  0.258064,  0.258064,\n",
       "        0.258064,  0.258064,  0.258064,  0.258064,  0.258064,  0.258064,\n",
       "        0.258064,  0.258064,  0.258064,  0.258064,  0.258064,  0.258064,\n",
       "        0.258064,  0.258064,  0.258064,  0.258064,  0.258064,  0.258064,\n",
       "        0.258064,  0.258064,  0.258064,  0.258064,  0.258064,  0.258064,\n",
       "        0.258064,  0.258064,  0.258064,  0.258064,  0.258064,  0.258064,\n",
       "        0.258064,  0.258064,  0.258064,  0.258064,  0.258064,  0.258064,\n",
       "        0.258064,  0.258064,  0.258064,  0.258064,  0.258064,  0.258064,\n",
       "        0.258064,  0.258064,  0.258064,  0.258064,  0.258064,  0.258064,\n",
       "        0.258064,  0.258064,  0.258064,  0.258064,  0.258064,  0.258064,\n",
       "        0.258064,  0.      ,  0.      ,  0.      ,  0.      ,  0.      ,\n",
       "        0.      ,  0.      ,  0.      ,  0.      ,  0.      ,  0.      ,\n",
       "        0.      ,  0.      ,  0.      ,  0.      ,  0.      ,  0.      ,\n",
       "        0.      ,  0.      ,  0.      ,  0.      ,  0.      ,  0.      ,\n",
       "        0.      ,  0.      ,  0.      ,  0.      ,  0.      ,  0.      ,\n",
       "        0.      ,  0.      ,  0.      ,  0.      ,  0.      ,  0.      ,\n",
       "        0.      ,  0.      ,  0.      ,  0.      ,  0.      ,  0.      ,\n",
       "        0.      ,  0.      ,  0.      ,  0.      ,  0.      ,  0.      ,\n",
       "        0.      ,  0.      ,  0.      ,  0.      ,  0.      ,  0.      ,\n",
       "        0.      ,  0.      ,  0.      ,  0.      ,  0.      ,  0.      ,\n",
       "        0.      ,  0.      ,  0.      ,  0.      ,  0.      ,  0.      ,\n",
       "        0.      ,  0.      ,  0.      ,  0.      ,  0.      ,  0.      ,\n",
       "        0.      ,  0.      ])"
      ]
     },
     "execution_count": 527,
     "metadata": {},
     "output_type": "execute_result"
    }
   ],
   "source": [
    "r['tsp_botorch_merge_EI_dim_10benchmark_index_k4_with_permutation_pattern_0'][0]"
   ]
  },
  {
   "cell_type": "code",
   "execution_count": 465,
   "id": "abf89a08-9351-4abb-a891-a2f51455bf8d",
   "metadata": {},
   "outputs": [
    {
     "data": {
      "text/plain": [
       "array([42.531792, 42.531792, 19.078448, 19.078448, 19.078448, 19.078448,\n",
       "       11.735816, 11.735816, 11.735816, 11.735816, 11.735816, 11.735816,\n",
       "       11.735816, 11.735816, 11.735816, 11.735816, 11.735816, 11.735816,\n",
       "       11.735816, 11.735816, 11.735816, 10.187432,  8.12292 ,  8.12292 ,\n",
       "        5.935472,  3.612896,  3.612896,  3.612896,  3.612896,  2.322576,\n",
       "        2.322576,  2.322576,  2.322576,  2.322576,  2.322576,  2.322576,\n",
       "        2.322576,  1.548384,  1.548384,  0.387096,  0.387096,  0.387096,\n",
       "        0.387096,  0.258064,  0.258064,  0.258064,  0.258064,  0.258064,\n",
       "        0.258064,  0.258064,  0.258064,  0.258064,  0.258064,  0.258064,\n",
       "        0.258064,  0.258064,  0.258064,  0.258064,  0.258064,  0.258064,\n",
       "        0.258064,  0.258064,  0.258064,  0.258064,  0.258064,  0.258064,\n",
       "        0.258064,  0.258064,  0.258064,  0.129032,  0.129032,  0.129032,\n",
       "        0.129032,  0.129032,  0.129032,  0.129032,  0.129032,  0.129032,\n",
       "        0.129032,  0.129032,  0.129032,  0.129032,  0.129032,  0.129032,\n",
       "        0.129032,  0.129032,  0.      ,  0.      ,  0.      ,  0.      ,\n",
       "        0.      ,  0.      ,  0.      ,  0.      ,  0.      ,  0.      ,\n",
       "        0.      ,  0.      ,  0.      ,  0.      ,  0.      ,  0.      ,\n",
       "        0.      ,  0.      ,  0.      ,  0.      ,  0.      ,  0.      ,\n",
       "        0.      ,  0.      ,  0.      ,  0.      ,  0.      ,  0.      ,\n",
       "        0.      ,  0.      ,  0.      ,  0.      ,  0.      ,  0.      ,\n",
       "        0.      ,  0.      ,  0.      ,  0.      ,  0.      ,  0.      ,\n",
       "        0.      ,  0.      ,  0.      ,  0.      ,  0.      ,  0.      ,\n",
       "        0.      ,  0.      ,  0.      ,  0.      ,  0.      ,  0.      ,\n",
       "        0.      ,  0.      ,  0.      ,  0.      ,  0.      ,  0.      ,\n",
       "        0.      ,  0.      ,  0.      ,  0.      ,  0.      ,  0.      ,\n",
       "        0.      ,  0.      ,  0.      ,  0.      ,  0.      ,  0.      ,\n",
       "        0.      ,  0.      ,  0.      ,  0.      ,  0.      ,  0.      ,\n",
       "        0.      ,  0.      ,  0.      ,  0.      ,  0.      ,  0.      ,\n",
       "        0.      ,  0.      ,  0.      ,  0.      ,  0.      ,  0.      ,\n",
       "        0.      ,  0.      ,  0.      ,  0.      ,  0.      ,  0.      ,\n",
       "        0.      ,  0.      ,  0.      ,  0.      ,  0.      ,  0.      ,\n",
       "        0.      ,  0.      ,  0.      ,  0.      ,  0.      ,  0.      ,\n",
       "        0.      ,  0.      ,  0.      ,  0.      ,  0.      ,  0.      ,\n",
       "        0.      ,  0.      ])"
      ]
     },
     "execution_count": 465,
     "metadata": {},
     "output_type": "execute_result"
    }
   ],
   "source": [
    "r['tsp_botorch_merge_EI_dim_10benchmark_index_k5_with_hash_bucket_0'][8]"
   ]
  },
  {
   "cell_type": "code",
   "execution_count": 467,
   "id": "69ea119f-16ab-45ef-80a7-94b1fdc8b05e",
   "metadata": {},
   "outputs": [
    {
     "data": {
      "text/plain": [
       "array([24.1046  , 24.1046  , 24.1046  , 24.1046  ,  7.612888,  7.612888,\n",
       "        7.612888,  7.612888,  7.612888,  7.612888,  7.612888,  7.612888,\n",
       "        2.322576,  2.322576,  2.322576,  2.322576,  2.322576,  2.322576,\n",
       "        2.322576,  2.322576,  2.322576,  2.322576,  1.548384,  1.29032 ,\n",
       "        1.29032 ,  1.29032 ,  1.29032 ,  1.29032 ,  1.29032 ,  1.29032 ,\n",
       "        1.29032 ,  1.032256,  1.032256,  1.032256,  1.032256,  1.032256,\n",
       "        1.032256,  1.032256,  1.032256,  1.032256,  1.032256,  1.032256,\n",
       "        1.032256,  1.032256,  1.032256,  1.032256,  1.032256,  1.032256,\n",
       "        1.032256,  1.032256,  1.032256,  1.032256,  1.032256,  1.032256,\n",
       "        1.032256,  1.032256,  1.032256,  0.64516 ,  0.64516 ,  0.64516 ,\n",
       "        0.64516 ,  0.516128,  0.516128,  0.258064,  0.258064,  0.258064,\n",
       "        0.258064,  0.258064,  0.129032,  0.129032,  0.129032,  0.129032,\n",
       "        0.129032,  0.129032,  0.129032,  0.129032,  0.129032,  0.129032,\n",
       "        0.129032,  0.129032,  0.129032,  0.129032,  0.129032,  0.129032,\n",
       "        0.129032,  0.129032,  0.129032,  0.129032,  0.129032,  0.129032,\n",
       "        0.129032,  0.129032,  0.129032,  0.129032,  0.129032,  0.129032,\n",
       "        0.129032,  0.129032,  0.129032,  0.129032,  0.129032,  0.129032,\n",
       "        0.129032,  0.129032,  0.129032,  0.129032,  0.129032,  0.129032,\n",
       "        0.129032,  0.129032,  0.129032,  0.129032,  0.129032,  0.129032,\n",
       "        0.129032,  0.129032,  0.129032,  0.129032,  0.129032,  0.129032,\n",
       "        0.129032,  0.129032,  0.129032,  0.129032,  0.129032,  0.129032,\n",
       "        0.129032,  0.129032,  0.129032,  0.129032,  0.129032,  0.129032,\n",
       "        0.129032,  0.129032,  0.129032,  0.129032,  0.129032,  0.      ,\n",
       "        0.      ,  0.      ,  0.      ,  0.      ,  0.      ,  0.      ,\n",
       "        0.      ,  0.      ,  0.      ,  0.      ,  0.      ,  0.      ,\n",
       "        0.      ,  0.      ,  0.      ,  0.      ,  0.      ,  0.      ,\n",
       "        0.      ,  0.      ,  0.      ,  0.      ,  0.      ,  0.      ,\n",
       "        0.      ,  0.      ,  0.      ,  0.      ,  0.      ,  0.      ,\n",
       "        0.      ,  0.      ,  0.      ,  0.      ,  0.      ,  0.      ,\n",
       "        0.      ,  0.      ,  0.      ,  0.      ,  0.      ,  0.      ,\n",
       "        0.      ,  0.      ,  0.      ,  0.      ,  0.      ,  0.      ,\n",
       "        0.      ,  0.      ,  0.      ,  0.      ,  0.      ,  0.      ,\n",
       "        0.      ,  0.      ,  0.      ,  0.      ,  0.      ,  0.      ,\n",
       "        0.      ,  0.      ])"
      ]
     },
     "execution_count": 467,
     "metadata": {},
     "output_type": "execute_result"
    }
   ],
   "source": [
    "r['tsp_botorch_mallows_EI_dim_10benchmark_index_0'][7]"
   ]
  },
  {
   "cell_type": "code",
   "execution_count": 151,
   "id": "20e40a09-fe80-435a-8c90-6a35d31ffe69",
   "metadata": {},
   "outputs": [
    {
     "data": {
      "text/plain": [
       "np.float64(5.3665869299999756)"
      ]
     },
     "execution_count": 151,
     "metadata": {},
     "output_type": "execute_result"
    }
   ],
   "source": [
    "r['tsp_botorch_bitonic_EI_dim_10benchmark_index_0'].mean()"
   ]
  },
  {
   "cell_type": "code",
   "execution_count": 152,
   "id": "21d162ec-a80f-4cea-b8c3-05ae6858d471",
   "metadata": {},
   "outputs": [
    {
     "data": {
      "text/plain": [
       "np.float64(2.239048861999994)"
      ]
     },
     "execution_count": 152,
     "metadata": {},
     "output_type": "execute_result"
    }
   ],
   "source": [
    "r['tsp_botorch_mallows_EI_dim_10benchmark_index_0'].mean()"
   ]
  },
  {
   "cell_type": "code",
   "execution_count": 167,
   "id": "48eb45f6-c541-4412-a255-b72a6b319b36",
   "metadata": {},
   "outputs": [
    {
     "data": {
      "text/plain": [
       "array([68.307712, 56.06796 , 56.06796 , 14.304264, 14.304264, 14.304264,\n",
       "       14.304264, 14.304264, 14.304264, 14.304264, 12.37488 , 12.37488 ,\n",
       "       12.37488 , 12.37488 , 12.37488 , 12.37488 , 12.37488 , 12.37488 ,\n",
       "       12.37488 , 12.37488 , 12.116816, 10.955528, 10.955528, 10.4394  ,\n",
       "       10.4394  ,  6.18744 ,  1.161288,  0.129032,  0.129032,  0.129032,\n",
       "        0.129032,  0.129032,  0.129032,  0.129032,  0.129032,  0.129032,\n",
       "        0.129032,  0.129032,  0.129032,  0.129032,  0.      ,  0.      ,\n",
       "        0.      ,  0.      ,  0.      ,  0.      ,  0.      ,  0.      ,\n",
       "        0.      ,  0.      ,  0.      ,  0.      ,  0.      ,  0.      ,\n",
       "        0.      ,  0.      ,  0.      ,  0.      ,  0.      ,  0.      ,\n",
       "        0.      ,  0.      ,  0.      ,  0.      ,  0.      ,  0.      ,\n",
       "        0.      ,  0.      ,  0.      ,  0.      ,  0.      ,  0.      ,\n",
       "        0.      ,  0.      ,  0.      ,  0.      ,  0.      ,  0.      ,\n",
       "        0.      ,  0.      ,  0.      ,  0.      ,  0.      ,  0.      ,\n",
       "        0.      ,  0.      ,  0.      ,  0.      ,  0.      ,  0.      ,\n",
       "        0.      ,  0.      ,  0.      ,  0.      ,  0.      ,  0.      ,\n",
       "        0.      ,  0.      ,  0.      ,  0.      ,  0.      ,  0.      ,\n",
       "        0.      ,  0.      ,  0.      ,  0.      ,  0.      ,  0.      ,\n",
       "        0.      ,  0.      ,  0.      ,  0.      ,  0.      ,  0.      ,\n",
       "        0.      ,  0.      ,  0.      ,  0.      ,  0.      ,  0.      ,\n",
       "        0.      ,  0.      ,  0.      ,  0.      ,  0.      ,  0.      ,\n",
       "        0.      ,  0.      ,  0.      ,  0.      ,  0.      ,  0.      ,\n",
       "        0.      ,  0.      ,  0.      ,  0.      ,  0.      ,  0.      ,\n",
       "        0.      ,  0.      ,  0.      ,  0.      ,  0.      ,  0.      ,\n",
       "        0.      ,  0.      ,  0.      ,  0.      ,  0.      ,  0.      ,\n",
       "        0.      ,  0.      ,  0.      ,  0.      ,  0.      ,  0.      ,\n",
       "        0.      ,  0.      ,  0.      ,  0.      ,  0.      ,  0.      ,\n",
       "        0.      ,  0.      ,  0.      ,  0.      ,  0.      ,  0.      ,\n",
       "        0.      ,  0.      ,  0.      ,  0.      ,  0.      ,  0.      ,\n",
       "        0.      ,  0.      ,  0.      ,  0.      ,  0.      ,  0.      ,\n",
       "        0.      ,  0.      ,  0.      ,  0.      ,  0.      ,  0.      ,\n",
       "        0.      ,  0.      ,  0.      ,  0.      ,  0.      ,  0.      ,\n",
       "        0.      ,  0.      ,  0.      ,  0.      ,  0.      ,  0.      ,\n",
       "        0.      ,  0.      ])"
      ]
     },
     "execution_count": 167,
     "metadata": {},
     "output_type": "execute_result"
    }
   ],
   "source": [
    "r['tsp_botorch_mallows_EI_dim_10benchmark_index_0'][15]"
   ]
  },
  {
   "cell_type": "code",
   "execution_count": 534,
   "id": "5a1e1255-a6f7-4c52-89b6-206ad18e7254",
   "metadata": {},
   "outputs": [],
   "source": [
    "from itertools import permutations\n",
    "import numpy as np\n",
    "\n",
    "def get_relative_order(window):\n",
    "    order = sorted(range(len(window)), key=lambda i: window[i])\n",
    "    relative = [0] * len(window)\n",
    "    for rank, idx in enumerate(order):\n",
    "        relative[idx] = rank\n",
    "    return tuple(relative)\n",
    "\n",
    "def pattern_count_feature_circular(perm, k):\n",
    "    \"\"\"\n",
    "    计算循环滑动窗口的排序模式计数。\n",
    "    \n",
    "    参数：\n",
    "      - perm: 输入置换（长度为 n 的 list 或 np.array）\n",
    "      - k: 滑动窗口长度\n",
    "\n",
    "    返回：\n",
    "      - 长度为 k! 的 numpy 向量，统计每种模式出现的次数\n",
    "    \"\"\"\n",
    "    n = len(perm)\n",
    "    patterns = list(permutations(range(k)))\n",
    "    pattern_to_index = {p: i for i, p in enumerate(patterns)}\n",
    "    counts = np.zeros(len(patterns), dtype=int)\n",
    "\n",
    "    for i in range(n):\n",
    "        window = [perm[(i + j) % n] for j in range(k)]  # 循环索引\n",
    "        pat = get_relative_order(window)\n",
    "        idx = pattern_to_index[pat]\n",
    "        counts[idx] += 1\n",
    "\n",
    "    return counts\n",
    "\n",
    "def right_multiply(x, anchor):\n",
    "    \"\"\"\n",
    "    对置换 x 进行右乘 anchor，返回 x ◦ anchor。\n",
    "    \n",
    "    参数：\n",
    "      - x: list[int]，长度为 n 的置换，例如 [2, 0, 1]\n",
    "      - anchor: list[int]，长度为 n 的置换，例如 [1, 2, 0]\n",
    "    \n",
    "    返回：\n",
    "      - result: list[int]，x 右乘 anchor 的结果\n",
    "    \"\"\"\n",
    "    return [anchor[xi] for xi in x]"
   ]
  },
  {
   "cell_type": "code",
   "execution_count": 543,
   "id": "0d1b678b-0de6-4dd9-9212-aa651bb0f107",
   "metadata": {},
   "outputs": [
    {
     "name": "stdout",
     "output_type": "stream",
     "text": [
      "[ 0  1  0 -1  0  0]\n"
     ]
    }
   ],
   "source": [
    "perm1 = [3, 1, 4, 2, 0]\n",
    "perm2 = [2, 4, 1, 0, 3]\n",
    "\n",
    "k = 3\n",
    "feat1 = pattern_count_feature_circular(perm1, k)\n",
    "feat2 = pattern_count_feature_circular(perm2, k)\n",
    "print(feat1-feat2)"
   ]
  },
  {
   "cell_type": "code",
   "execution_count": 559,
   "id": "fa46c16a-07b2-45a2-a422-1ecc5ec7d7f3",
   "metadata": {},
   "outputs": [
    {
     "name": "stdout",
     "output_type": "stream",
     "text": [
      "[-1  1  1  0  0 -1]\n"
     ]
    }
   ],
   "source": [
    "anchor = [3, 4, 0, 1, 2]\n",
    "right1 = right_multiply(perm1, anchor)\n",
    "right2 = right_multiply(perm2, anchor)\n",
    "feat1 = pattern_count_feature_circular(right1, k)\n",
    "feat2 = pattern_count_feature_circular(right2, k)\n",
    "print(feat1-feat2)"
   ]
  },
  {
   "cell_type": "code",
   "execution_count": 566,
   "id": "b7038629-3916-4620-92cc-b7e26fbe29e8",
   "metadata": {},
   "outputs": [
    {
     "name": "stdout",
     "output_type": "stream",
     "text": [
      "[3, 1, 4]\n",
      "[1, 4, 2]\n",
      "[4, 2, 0]\n",
      "[2, 0, 3]\n",
      "[0, 3, 1]\n"
     ]
    }
   ],
   "source": [
    "perm = [3, 1, 4, 2, 0]\n",
    "k =3 \n",
    "\n",
    "n = len(perm)\n",
    "patterns = list(permutations(range(k)))\n",
    "pattern_to_index = {p: i for i, p in enumerate(patterns)}\n",
    "counts = np.zeros(len(patterns), dtype=int)\n",
    "\n",
    "for i in range(n):\n",
    "    window = [perm[(i + j) % n] for j in range(k)]  # 循环索引\n",
    "    print(window)\n",
    "    pat = get_relative_order(window)\n",
    "    idx = pattern_to_index[pat]\n",
    "    counts[idx] += 1"
   ]
  },
  {
   "cell_type": "code",
   "execution_count": 565,
   "id": "8547b18b-4232-42f8-ac37-5b07646546fd",
   "metadata": {},
   "outputs": [
    {
     "data": {
      "text/plain": [
       "[(0, 1, 2), (0, 2, 1), (1, 0, 2), (1, 2, 0), (2, 0, 1), (2, 1, 0)]"
      ]
     },
     "execution_count": 565,
     "metadata": {},
     "output_type": "execute_result"
    }
   ],
   "source": [
    "patterns"
   ]
  },
  {
   "cell_type": "code",
   "execution_count": 560,
   "id": "44cf03b5-5191-461c-ae83-c1015395144d",
   "metadata": {},
   "outputs": [
    {
     "data": {
      "text/plain": [
       "[1, 4, 2, 0, 3]"
      ]
     },
     "execution_count": 560,
     "metadata": {},
     "output_type": "execute_result"
    }
   ],
   "source": [
    "right1"
   ]
  },
  {
   "cell_type": "code",
   "execution_count": 556,
   "id": "a431018e-b6c4-4d86-b519-bde040f987d5",
   "metadata": {},
   "outputs": [
    {
     "data": {
      "text/plain": [
       "[0, 2, 4, 3, 1]"
      ]
     },
     "execution_count": 556,
     "metadata": {},
     "output_type": "execute_result"
    }
   ],
   "source": [
    "right2"
   ]
  }
 ],
 "metadata": {
  "kernelspec": {
   "display_name": "Python 3 (ipykernel)",
   "language": "python",
   "name": "python3"
  },
  "language_info": {
   "codemirror_mode": {
    "name": "ipython",
    "version": 3
   },
   "file_extension": ".py",
   "mimetype": "text/x-python",
   "name": "python",
   "nbconvert_exporter": "python",
   "pygments_lexer": "ipython3",
   "version": "3.13.0"
  }
 },
 "nbformat": 4,
 "nbformat_minor": 5
}
